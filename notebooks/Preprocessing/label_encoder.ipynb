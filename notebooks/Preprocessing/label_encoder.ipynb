{
 "cells": [
  {
   "cell_type": "markdown",
   "id": "ac3bc47c",
   "metadata": {},
   "source": [
    "# Importing our libraries "
   ]
  },
  {
   "cell_type": "code",
   "execution_count": 6,
   "id": "451a440b",
   "metadata": {},
   "outputs": [],
   "source": [
    "import pandas as pd\n",
    "import numpy as np\n",
    "import os\n",
    "from pathlib import Path\n",
    "from sklearn.preprocessing import LabelEncoder"
   ]
  },
  {
   "cell_type": "markdown",
   "id": "19b12089",
   "metadata": {},
   "source": [
    "# Importing the data we will work on"
   ]
  },
  {
   "cell_type": "code",
   "execution_count": 7,
   "id": "17e5a19d",
   "metadata": {},
   "outputs": [
    {
     "data": {
      "application/vnd.microsoft.datawrangler.viewer.v0+json": {
       "columns": [
        {
         "name": "index",
         "rawType": "int64",
         "type": "integer"
        },
        {
         "name": "img_path",
         "rawType": "object",
         "type": "string"
        },
        {
         "name": "clas",
         "rawType": "object",
         "type": "string"
        },
        {
         "name": "split",
         "rawType": "object",
         "type": "string"
        },
        {
         "name": "resized_path",
         "rawType": "object",
         "type": "string"
        }
       ],
       "conversionMethod": "pd.DataFrame",
       "ref": "6dad1701-f495-498d-b013-49a15e1bde17",
       "rows": [
        [
         "0",
         "data\\chest_xray\\test\\NORMAL\\IM-0001-0001.jpeg",
         "NORMAL",
         "test",
         "data\\chest_xray_resized\\test\\NORMAL\\IM-0001-0001_resized.jpeg"
        ],
        [
         "1",
         "data\\chest_xray\\test\\NORMAL\\IM-0003-0001.jpeg",
         "NORMAL",
         "test",
         "data\\chest_xray_resized\\test\\NORMAL\\IM-0003-0001_resized.jpeg"
        ],
        [
         "2",
         "data\\chest_xray\\test\\NORMAL\\IM-0005-0001.jpeg",
         "NORMAL",
         "test",
         "data\\chest_xray_resized\\test\\NORMAL\\IM-0005-0001_resized.jpeg"
        ],
        [
         "3",
         "data\\chest_xray\\test\\NORMAL\\IM-0006-0001.jpeg",
         "NORMAL",
         "test",
         "data\\chest_xray_resized\\test\\NORMAL\\IM-0006-0001_resized.jpeg"
        ],
        [
         "4",
         "data\\chest_xray\\test\\NORMAL\\IM-0007-0001.jpeg",
         "NORMAL",
         "test",
         "data\\chest_xray_resized\\test\\NORMAL\\IM-0007-0001_resized.jpeg"
        ]
       ],
       "shape": {
        "columns": 4,
        "rows": 5
       }
      },
      "text/html": [
       "<div>\n",
       "<style scoped>\n",
       "    .dataframe tbody tr th:only-of-type {\n",
       "        vertical-align: middle;\n",
       "    }\n",
       "\n",
       "    .dataframe tbody tr th {\n",
       "        vertical-align: top;\n",
       "    }\n",
       "\n",
       "    .dataframe thead th {\n",
       "        text-align: right;\n",
       "    }\n",
       "</style>\n",
       "<table border=\"1\" class=\"dataframe\">\n",
       "  <thead>\n",
       "    <tr style=\"text-align: right;\">\n",
       "      <th></th>\n",
       "      <th>img_path</th>\n",
       "      <th>clas</th>\n",
       "      <th>split</th>\n",
       "      <th>resized_path</th>\n",
       "    </tr>\n",
       "  </thead>\n",
       "  <tbody>\n",
       "    <tr>\n",
       "      <th>0</th>\n",
       "      <td>data\\chest_xray\\test\\NORMAL\\IM-0001-0001.jpeg</td>\n",
       "      <td>NORMAL</td>\n",
       "      <td>test</td>\n",
       "      <td>data\\chest_xray_resized\\test\\NORMAL\\IM-0001-00...</td>\n",
       "    </tr>\n",
       "    <tr>\n",
       "      <th>1</th>\n",
       "      <td>data\\chest_xray\\test\\NORMAL\\IM-0003-0001.jpeg</td>\n",
       "      <td>NORMAL</td>\n",
       "      <td>test</td>\n",
       "      <td>data\\chest_xray_resized\\test\\NORMAL\\IM-0003-00...</td>\n",
       "    </tr>\n",
       "    <tr>\n",
       "      <th>2</th>\n",
       "      <td>data\\chest_xray\\test\\NORMAL\\IM-0005-0001.jpeg</td>\n",
       "      <td>NORMAL</td>\n",
       "      <td>test</td>\n",
       "      <td>data\\chest_xray_resized\\test\\NORMAL\\IM-0005-00...</td>\n",
       "    </tr>\n",
       "    <tr>\n",
       "      <th>3</th>\n",
       "      <td>data\\chest_xray\\test\\NORMAL\\IM-0006-0001.jpeg</td>\n",
       "      <td>NORMAL</td>\n",
       "      <td>test</td>\n",
       "      <td>data\\chest_xray_resized\\test\\NORMAL\\IM-0006-00...</td>\n",
       "    </tr>\n",
       "    <tr>\n",
       "      <th>4</th>\n",
       "      <td>data\\chest_xray\\test\\NORMAL\\IM-0007-0001.jpeg</td>\n",
       "      <td>NORMAL</td>\n",
       "      <td>test</td>\n",
       "      <td>data\\chest_xray_resized\\test\\NORMAL\\IM-0007-00...</td>\n",
       "    </tr>\n",
       "  </tbody>\n",
       "</table>\n",
       "</div>"
      ],
      "text/plain": [
       "                                        img_path    clas split  \\\n",
       "0  data\\chest_xray\\test\\NORMAL\\IM-0001-0001.jpeg  NORMAL  test   \n",
       "1  data\\chest_xray\\test\\NORMAL\\IM-0003-0001.jpeg  NORMAL  test   \n",
       "2  data\\chest_xray\\test\\NORMAL\\IM-0005-0001.jpeg  NORMAL  test   \n",
       "3  data\\chest_xray\\test\\NORMAL\\IM-0006-0001.jpeg  NORMAL  test   \n",
       "4  data\\chest_xray\\test\\NORMAL\\IM-0007-0001.jpeg  NORMAL  test   \n",
       "\n",
       "                                        resized_path  \n",
       "0  data\\chest_xray_resized\\test\\NORMAL\\IM-0001-00...  \n",
       "1  data\\chest_xray_resized\\test\\NORMAL\\IM-0003-00...  \n",
       "2  data\\chest_xray_resized\\test\\NORMAL\\IM-0005-00...  \n",
       "3  data\\chest_xray_resized\\test\\NORMAL\\IM-0006-00...  \n",
       "4  data\\chest_xray_resized\\test\\NORMAL\\IM-0007-00...  "
      ]
     },
     "execution_count": 7,
     "metadata": {},
     "output_type": "execute_result"
    }
   ],
   "source": [
    "df = pd.read_csv('E:\\Github\\Pneumonia\\Chest_X-Ray_Pneumonia_PyTorch\\df_resized_aug.csv')\n",
    "df.head()"
   ]
  },
  {
   "cell_type": "markdown",
   "id": "cbb7e97d",
   "metadata": {},
   "source": [
    "Now we need to use label encoder in order to encode our class feature in order to allow our model to train efficiently on it"
   ]
  },
  {
   "cell_type": "code",
   "execution_count": 11,
   "id": "1404edd6",
   "metadata": {},
   "outputs": [
    {
     "name": "stdout",
     "output_type": "stream",
     "text": [
      "clas\n",
      "0    5606\n",
      "1    4273\n",
      "Name: count, dtype: int64\n"
     ]
    },
    {
     "data": {
      "text/plain": [
       "<Axes: title={'center': 'Class Distribution'}, xlabel='Class'>"
      ]
     },
     "execution_count": 11,
     "metadata": {},
     "output_type": "execute_result"
    },
    {
     "data": {
      "image/png": "[encoded data removed]",
      "text/plain": [
       "<Figure size 640x480 with 1 Axes>"
      ]
     },
     "metadata": {},
     "output_type": "display_data"
    }
   ],
   "source": [
    "lble = LabelEncoder()\n",
    "df['clas'] = lble.fit_transform(df['clas'])\n",
    "print(df['clas'].value_counts())\n",
    "df['clas'].value_counts().plot(kind='bar', title='Class Distribution', xlabel='Class')"
   ]
  },
  {
   "cell_type": "markdown",
   "id": "995f27ee",
   "metadata": {},
   "source": [
    "# saving our encoded DataFrame"
   ]
  },
  {
   "cell_type": "code",
   "execution_count": 9,
   "id": "afdc14d0",
   "metadata": {},
   "outputs": [],
   "source": [
    "df.to_csv('E:\\Github\\Pneumonia\\Chest_X-Ray_Pneumonia_PyTorch\\df_resized_aug.csv', index=False)"
   ]
  },
  {
   "cell_type": "code",
   "execution_count": 10,
   "id": "aa8cdf89",
   "metadata": {},
   "outputs": [
    {
     "data": {
      "text/plain": [
       "['E:\\\\Github\\\\Pneumonia\\\\Chest_X-Ray_Pneumonia_PyTorch\\\\label_encoder.pkl']"
      ]
     },
     "execution_count": 10,
     "metadata": {},
     "output_type": "execute_result"
    }
   ],
   "source": [
    "import joblib\n",
    "joblib.dump(lble, 'E:\\Github\\Pneumonia\\Chest_X-Ray_Pneumonia_PyTorch\\label_encoder.pkl')"
   ]
  }
 ],
 "metadata": {
  "kernelspec": {
   "display_name": "test",
   "language": "python",
   "name": "python3"
  },
  "language_info": {
   "codemirror_mode": {
    "name": "ipython",
    "version": 3
   },
   "file_extension": ".py",
   "mimetype": "text/x-python",
   "name": "python",
   "nbconvert_exporter": "python",
   "pygments_lexer": "ipython3",
   "version": "3.11.11"
  }
 },
 "nbformat": 4,
 "nbformat_minor": 5
}
